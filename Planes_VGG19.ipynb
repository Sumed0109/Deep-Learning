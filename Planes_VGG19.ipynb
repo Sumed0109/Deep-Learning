{
  "nbformat": 4,
  "nbformat_minor": 0,
  "metadata": {
    "colab": {
      "name": "Planes_VGG19.ipynb",
      "provenance": [],
      "collapsed_sections": []
    },
    "kernelspec": {
      "name": "python3",
      "display_name": "Python 3"
    },
    "accelerator": "GPU"
  },
  "cells": [
    {
      "cell_type": "code",
      "metadata": {
        "id": "R-YYOh-Xhiu1",
        "colab_type": "code",
        "colab": {}
      },
      "source": [
        "# import the libraries\n",
        "\n",
        "from glob import glob\n",
        "import matplotlib.pyplot as plt\n",
        "from tensorflow.keras.layers import Input, Dense, Flatten\n",
        "from tensorflow.keras.models import Model, Sequential\n",
        "from tensorflow.keras.preprocessing.image import ImageDataGenerator\n",
        "from tensorflow.keras.applications.vgg19 import VGG19\n",
        "from tensorflow.keras.applications.vgg19 import preprocess_input"
      ],
      "execution_count": 1,
      "outputs": []
    },
    {
      "cell_type": "code",
      "metadata": {
        "id": "9mHPBdjdhpjt",
        "colab_type": "code",
        "colab": {}
      },
      "source": [
        "train = '/content/drive/My Drive/DS_Dataset/Planes/Train'\n",
        "test = '/content/drive/My Drive/DS_Dataset/Planes/Test'"
      ],
      "execution_count": 2,
      "outputs": []
    },
    {
      "cell_type": "code",
      "metadata": {
        "id": "z-E26LaahpmX",
        "colab_type": "code",
        "colab": {}
      },
      "source": [
        "# re-size all the images to this\n",
        "\n",
        "IMAGE_SIZE = [224, 224, 3]"
      ],
      "execution_count": 3,
      "outputs": []
    },
    {
      "cell_type": "code",
      "metadata": {
        "id": "zGveG2lyhpq1",
        "colab_type": "code",
        "colab": {
          "base_uri": "https://localhost:8080/",
          "height": 51
        },
        "outputId": "bcd2f245-e4ba-4bc8-fb25-58346caff507"
      },
      "source": [
        "# This will be our input layer to be given to Model\n",
        "\n",
        "vgg19 = VGG19(input_shape=IMAGE_SIZE, weights='imagenet', include_top=False)"
      ],
      "execution_count": 4,
      "outputs": [
        {
          "output_type": "stream",
          "text": [
            "Downloading data from https://storage.googleapis.com/tensorflow/keras-applications/vgg19/vgg19_weights_tf_dim_ordering_tf_kernels_notop.h5\n",
            "80142336/80134624 [==============================] - 1s 0us/step\n"
          ],
          "name": "stdout"
        }
      ]
    },
    {
      "cell_type": "code",
      "metadata": {
        "id": "En1S-uNmhptv",
        "colab_type": "code",
        "colab": {}
      },
      "source": [
        "# To make pretrained weights non-trainable \n",
        "\n",
        "for layer in vgg19.layers:\n",
        "    layer.trainable = False"
      ],
      "execution_count": 5,
      "outputs": []
    },
    {
      "cell_type": "code",
      "metadata": {
        "id": "HbO9TRszhpxO",
        "colab_type": "code",
        "colab": {}
      },
      "source": [
        "# To get the number of output classes\n",
        "\n",
        "op_classes = glob('/content/drive/My Drive/DS_Dataset/Planes/Train/*')"
      ],
      "execution_count": 6,
      "outputs": []
    },
    {
      "cell_type": "code",
      "metadata": {
        "id": "wghctObLhppT",
        "colab_type": "code",
        "colab": {
          "base_uri": "https://localhost:8080/",
          "height": 85
        },
        "outputId": "c02eaad3-e6c2-49f0-a58c-df35a588a489"
      },
      "source": [
        "op_classes"
      ],
      "execution_count": 7,
      "outputs": [
        {
          "output_type": "execute_result",
          "data": {
            "text/plain": [
              "['/content/drive/My Drive/DS_Dataset/Planes/Train/missile',\n",
              " '/content/drive/My Drive/DS_Dataset/Planes/Train/helicopter',\n",
              " '/content/drive/My Drive/DS_Dataset/Planes/Train/fighter-jet',\n",
              " '/content/drive/My Drive/DS_Dataset/Planes/Train/drone']"
            ]
          },
          "metadata": {
            "tags": []
          },
          "execution_count": 7
        }
      ]
    },
    {
      "cell_type": "code",
      "metadata": {
        "id": "bIK3Q1WfiJcD",
        "colab_type": "code",
        "colab": {}
      },
      "source": [
        "# Flattening the output of pretrained model\n",
        "\n",
        "x = Flatten()(vgg19.output)"
      ],
      "execution_count": 8,
      "outputs": []
    },
    {
      "cell_type": "code",
      "metadata": {
        "id": "5SiPUtoKiJeW",
        "colab_type": "code",
        "colab": {}
      },
      "source": [
        "# Create output layer to be given to Model\n",
        "\n",
        "pred_layer = Dense(len(op_classes), activation='softmax')(x)"
      ],
      "execution_count": 9,
      "outputs": []
    },
    {
      "cell_type": "code",
      "metadata": {
        "id": "KZDCUY8liJgx",
        "colab_type": "code",
        "colab": {}
      },
      "source": [
        "# create a model object\n",
        "\n",
        "model = Model(inputs=vgg19.input, outputs=pred_layer)"
      ],
      "execution_count": 10,
      "outputs": []
    },
    {
      "cell_type": "code",
      "metadata": {
        "id": "Z5xm0PBiiJkQ",
        "colab_type": "code",
        "colab": {
          "base_uri": "https://localhost:8080/",
          "height": 34
        },
        "outputId": "3428e5f8-fbc0-4c84-b2a3-46a2404b3d8d"
      },
      "source": [
        "model.output_shape"
      ],
      "execution_count": 11,
      "outputs": [
        {
          "output_type": "execute_result",
          "data": {
            "text/plain": [
              "(None, 4)"
            ]
          },
          "metadata": {
            "tags": []
          },
          "execution_count": 11
        }
      ]
    },
    {
      "cell_type": "code",
      "metadata": {
        "id": "bSaqwQutiJov",
        "colab_type": "code",
        "colab": {
          "base_uri": "https://localhost:8080/",
          "height": 969
        },
        "outputId": "23ca6124-f7c9-450e-8620-f27fd678c357"
      },
      "source": [
        "# To view the structure of the model\n",
        "\n",
        "model.summary()"
      ],
      "execution_count": 12,
      "outputs": [
        {
          "output_type": "stream",
          "text": [
            "Model: \"functional_1\"\n",
            "_________________________________________________________________\n",
            "Layer (type)                 Output Shape              Param #   \n",
            "=================================================================\n",
            "input_1 (InputLayer)         [(None, 224, 224, 3)]     0         \n",
            "_________________________________________________________________\n",
            "block1_conv1 (Conv2D)        (None, 224, 224, 64)      1792      \n",
            "_________________________________________________________________\n",
            "block1_conv2 (Conv2D)        (None, 224, 224, 64)      36928     \n",
            "_________________________________________________________________\n",
            "block1_pool (MaxPooling2D)   (None, 112, 112, 64)      0         \n",
            "_________________________________________________________________\n",
            "block2_conv1 (Conv2D)        (None, 112, 112, 128)     73856     \n",
            "_________________________________________________________________\n",
            "block2_conv2 (Conv2D)        (None, 112, 112, 128)     147584    \n",
            "_________________________________________________________________\n",
            "block2_pool (MaxPooling2D)   (None, 56, 56, 128)       0         \n",
            "_________________________________________________________________\n",
            "block3_conv1 (Conv2D)        (None, 56, 56, 256)       295168    \n",
            "_________________________________________________________________\n",
            "block3_conv2 (Conv2D)        (None, 56, 56, 256)       590080    \n",
            "_________________________________________________________________\n",
            "block3_conv3 (Conv2D)        (None, 56, 56, 256)       590080    \n",
            "_________________________________________________________________\n",
            "block3_conv4 (Conv2D)        (None, 56, 56, 256)       590080    \n",
            "_________________________________________________________________\n",
            "block3_pool (MaxPooling2D)   (None, 28, 28, 256)       0         \n",
            "_________________________________________________________________\n",
            "block4_conv1 (Conv2D)        (None, 28, 28, 512)       1180160   \n",
            "_________________________________________________________________\n",
            "block4_conv2 (Conv2D)        (None, 28, 28, 512)       2359808   \n",
            "_________________________________________________________________\n",
            "block4_conv3 (Conv2D)        (None, 28, 28, 512)       2359808   \n",
            "_________________________________________________________________\n",
            "block4_conv4 (Conv2D)        (None, 28, 28, 512)       2359808   \n",
            "_________________________________________________________________\n",
            "block4_pool (MaxPooling2D)   (None, 14, 14, 512)       0         \n",
            "_________________________________________________________________\n",
            "block5_conv1 (Conv2D)        (None, 14, 14, 512)       2359808   \n",
            "_________________________________________________________________\n",
            "block5_conv2 (Conv2D)        (None, 14, 14, 512)       2359808   \n",
            "_________________________________________________________________\n",
            "block5_conv3 (Conv2D)        (None, 14, 14, 512)       2359808   \n",
            "_________________________________________________________________\n",
            "block5_conv4 (Conv2D)        (None, 14, 14, 512)       2359808   \n",
            "_________________________________________________________________\n",
            "block5_pool (MaxPooling2D)   (None, 7, 7, 512)         0         \n",
            "_________________________________________________________________\n",
            "flatten (Flatten)            (None, 25088)             0         \n",
            "_________________________________________________________________\n",
            "dense (Dense)                (None, 4)                 100356    \n",
            "=================================================================\n",
            "Total params: 20,124,740\n",
            "Trainable params: 100,356\n",
            "Non-trainable params: 20,024,384\n",
            "_________________________________________________________________\n"
          ],
          "name": "stdout"
        }
      ]
    },
    {
      "cell_type": "code",
      "metadata": {
        "id": "bAucaprliJrf",
        "colab_type": "code",
        "colab": {}
      },
      "source": [
        "# For compiling the model give loss and optimizer \n",
        "\n",
        "model.compile(loss='categorical_crossentropy',\n",
        "              optimizer='adam',\n",
        "              metrics=['accuracy'])"
      ],
      "execution_count": 13,
      "outputs": []
    },
    {
      "cell_type": "code",
      "metadata": {
        "id": "NCdlrYgiiJub",
        "colab_type": "code",
        "colab": {}
      },
      "source": [
        "# Use the Image Data Generator to import the images from the dataset\n",
        "\n",
        "train_data = ImageDataGenerator(rescale = 1./255,\n",
        "                                shear_range = 0.2,\n",
        "                                zoom_range = 0.2,\n",
        "                                horizontal_flip = True)\n",
        "\n",
        "test_data = ImageDataGenerator(rescale = 1./255)"
      ],
      "execution_count": 14,
      "outputs": []
    },
    {
      "cell_type": "code",
      "metadata": {
        "id": "ChYr6qKfiJxa",
        "colab_type": "code",
        "colab": {
          "base_uri": "https://localhost:8080/",
          "height": 34
        },
        "outputId": "e03b3f93-cfb4-44a6-dbbb-7c6def3a6138"
      },
      "source": [
        "# Make the train data ready for fit after data augmentation\n",
        "\n",
        "training_set = train_data.flow_from_directory('/content/drive/My Drive/DS_Dataset/Planes/Train',\n",
        "                                              target_size = (224, 224),\n",
        "                                              batch_size = 16,\n",
        "                                              class_mode = 'categorical')"
      ],
      "execution_count": 15,
      "outputs": [
        {
          "output_type": "stream",
          "text": [
            "Found 4132 images belonging to 4 classes.\n"
          ],
          "name": "stdout"
        }
      ]
    },
    {
      "cell_type": "code",
      "metadata": {
        "id": "l1O1aPLPiJ1T",
        "colab_type": "code",
        "colab": {
          "base_uri": "https://localhost:8080/",
          "height": 34
        },
        "outputId": "ea97a801-f433-4838-961f-14191d459595"
      },
      "source": [
        "# Make the train data ready for fit after rescaling\n",
        "\n",
        "test_set = test_data.flow_from_directory('/content/drive/My Drive/DS_Dataset/Planes/Test',\n",
        "                                          target_size = (224, 224),\n",
        "                                          batch_size = 16,\n",
        "                                          class_mode = 'categorical')"
      ],
      "execution_count": 16,
      "outputs": [
        {
          "output_type": "stream",
          "text": [
            "Found 1691 images belonging to 4 classes.\n"
          ],
          "name": "stdout"
        }
      ]
    },
    {
      "cell_type": "code",
      "metadata": {
        "id": "2Um4qoN9iJnN",
        "colab_type": "code",
        "colab": {
          "base_uri": "https://localhost:8080/",
          "height": 357
        },
        "outputId": "6bb447d7-9000-4f35-b6d8-a4b33b91d8cc"
      },
      "source": [
        "# fit the model\n",
        "# Run the cell. It will take some time to execute\n",
        "\n",
        "vgg_model = model.fit(training_set,\n",
        "                      validation_data=test_set,\n",
        "                      epochs=10,\n",
        "                      steps_per_epoch=len(training_set),\n",
        "                      validation_steps=len(test_set)) "
      ],
      "execution_count": 17,
      "outputs": [
        {
          "output_type": "stream",
          "text": [
            "Epoch 1/10\n",
            "259/259 [==============================] - 6507s 25s/step - loss: 1.1023 - accuracy: 0.6029 - val_loss: 1.0795 - val_accuracy: 0.6322\n",
            "Epoch 2/10\n",
            "259/259 [==============================] - 164s 632ms/step - loss: 0.7829 - accuracy: 0.7210 - val_loss: 2.1178 - val_accuracy: 0.4447\n",
            "Epoch 3/10\n",
            "259/259 [==============================] - 161s 621ms/step - loss: 0.7210 - accuracy: 0.7478 - val_loss: 1.0804 - val_accuracy: 0.6564\n",
            "Epoch 4/10\n",
            "259/259 [==============================] - 157s 607ms/step - loss: 0.5941 - accuracy: 0.7897 - val_loss: 1.0304 - val_accuracy: 0.6907\n",
            "Epoch 5/10\n",
            "259/259 [==============================] - 158s 610ms/step - loss: 0.5347 - accuracy: 0.8122 - val_loss: 1.2714 - val_accuracy: 0.6541\n",
            "Epoch 6/10\n",
            "259/259 [==============================] - 155s 598ms/step - loss: 0.4777 - accuracy: 0.8245 - val_loss: 1.0944 - val_accuracy: 0.6937\n",
            "Epoch 7/10\n",
            "259/259 [==============================] - 154s 595ms/step - loss: 0.4406 - accuracy: 0.8439 - val_loss: 1.1632 - val_accuracy: 0.6919\n",
            "Epoch 8/10\n",
            "259/259 [==============================] - 153s 591ms/step - loss: 0.3963 - accuracy: 0.8589 - val_loss: 1.1437 - val_accuracy: 0.6907\n",
            "Epoch 9/10\n",
            "259/259 [==============================] - 153s 590ms/step - loss: 0.4338 - accuracy: 0.8439 - val_loss: 1.1762 - val_accuracy: 0.7008\n",
            "Epoch 10/10\n",
            "259/259 [==============================] - 153s 589ms/step - loss: 0.3776 - accuracy: 0.8635 - val_loss: 1.1443 - val_accuracy: 0.7191\n"
          ],
          "name": "stdout"
        }
      ]
    },
    {
      "cell_type": "code",
      "metadata": {
        "id": "Yk7vIMawijMM",
        "colab_type": "code",
        "colab": {
          "base_uri": "https://localhost:8080/",
          "height": 530
        },
        "outputId": "8e65de20-887d-4ae0-ccbf-a219a51dd151"
      },
      "source": [
        "# plot the loss\n",
        "plt.plot(vgg_model.history['loss'], label='train loss')\n",
        "plt.plot(vgg_model.history['val_loss'], label='val loss')\n",
        "plt.legend()\n",
        "plt.show()\n",
        "plt.savefig('LossVal_loss')\n",
        "\n",
        "# plot the accuracy\n",
        "plt.plot(vgg_model.history['accuracy'], label='train acc')\n",
        "plt.plot(vgg_model.history['val_accuracy'], label='val acc')\n",
        "plt.legend()\n",
        "plt.show()\n",
        "plt.savefig('AccVal_acc')"
      ],
      "execution_count": 18,
      "outputs": [
        {
          "output_type": "display_data",
          "data": {
            "image/png": "[encoded data removed]",
            "text/plain": [
              "<Figure size 432x288 with 1 Axes>"
            ]
          },
          "metadata": {
            "tags": [],
            "needs_background": "light"
          }
        },
        {
          "output_type": "display_data",
          "data": {
            "image/png": "[encoded data removed]",
            "text/plain": [
              "<Figure size 432x288 with 1 Axes>"
            ]
          },
          "metadata": {
            "tags": [],
            "needs_background": "light"
          }
        },
        {
          "output_type": "display_data",
          "data": {
            "text/plain": [
              "<Figure size 432x288 with 0 Axes>"
            ]
          },
          "metadata": {
            "tags": []
          }
        }
      ]
    },
    {
      "cell_type": "code",
      "metadata": {
        "id": "CHjiYiC3ijOL",
        "colab_type": "code",
        "colab": {}
      },
      "source": [
        "y_pred = model.predict(test_set)"
      ],
      "execution_count": 19,
      "outputs": []
    },
    {
      "cell_type": "code",
      "metadata": {
        "id": "rU6xOQZZijRo",
        "colab_type": "code",
        "colab": {}
      },
      "source": [
        "# Save the entire model to a HDF5 file.\n",
        "# The '.h5' extension indicates that the model should be saved to HDF5.\n",
        "\n",
        "model.save('Planes_VGG19.h5') "
      ],
      "execution_count": 20,
      "outputs": []
    }
  ]
}